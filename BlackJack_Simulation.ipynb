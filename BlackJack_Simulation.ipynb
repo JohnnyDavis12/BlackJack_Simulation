{
 "cells": [
  {
   "cell_type": "code",
   "execution_count": 2,
   "metadata": {},
   "outputs": [],
   "source": [
    "import pandas as pd\n",
    "import numpy as np\n",
    "from collections import Counter"
   ]
  },
  {
   "cell_type": "code",
   "execution_count": 3,
   "metadata": {},
   "outputs": [],
   "source": [
    "#52 card deck\n",
    "Suits = ['Spades','Clubs', 'Hearts', 'Diamonds']\n",
    "Ranks = ['Ace','2','3','4','5','6','7','8','9','10','Jack','Queen','King']\n",
    "Spades_Cards = Counter({'Ace of Spades': 1, '2 of Spades': 2, '3 of Spades': 3, '4 of Spades': 4, '5 of Spades': 5, '6 of Spades': 6, '7 of Spades': 7, '8 of Spades': 8, '9 of Spades': 9, '10 of Spades': 10, 'Jack of Spades': 10, 'Queen of Spades': 10, 'King of Spades': 10})\n",
    "Club_Cards = Counter({'Ace of Clubs': 1, '2 of Clubs': 2, '3 of Clubs': 3, '4 of Clubs': 4, '5 of Clubs': 5, '6 of Clubs': 6, '7 of Clubs': 7, '8 of Clubs': 8, '9 of Clubs': 9, '10 of Clubs': 10, 'Jack of Clubs': 10, 'Queen of Clubs': 10, 'King of Clubs': 10})\n",
    "Heart_Cards = Counter({'Ace of Hearts': 1, '2 of Hearts': 2, '3 of Hearts': 3, '4 of Hearts': 4, '5 of Hearts': 5, '6 of Hearts': 6, '7 of Hearts': 7, '8 of Hearts': 8, '9 of Hearts': 9, '10 of Hearts': 10, 'Jack of Hearts': 10, 'Queen of Hearts': 10, 'King of Hearts': 10})\n",
    "Diamonds_Cards = Counter({'Ace of Diamonds': 1, '2 of Diamonds': 2, '3 of Diamonds': 3, '4 of Diamonds': 4, '5 of Diamonds': 5, '6 of Diamonds': 6, '7 of Diamonds': 7, '8 of Diamonds': 8, '9 of Diamonds': 9, '10 of Diamonds': 10, 'Jack of Diamonds': 10, 'Queen of Diamonds': 10, 'King of Diamonds': 10})"
   ]
  },
  {
   "cell_type": "code",
   "execution_count": 4,
   "metadata": {},
   "outputs": [],
   "source": [
    "All_Possible_Cards = Counter({'Ace of Spades': 1, '2 of Spades': 2, '3 of Spades': 3, '4 of Spades': 4, '5 of Spades': 5, '6 of Spades': 6, '7 of Spades': 7, '8 of Spades': 8, '9 of Spades': 9, '10 of Spades': 10, 'Jack of Spades': 10, 'Queen of Spades': 10, 'King of Spades': 10,'Ace of Clubs': 1, '2 of Clubs': 2, '3 of Clubs': 3, '4 of Clubs': 4, '5 of Clubs': 5, '6 of Clubs': 6, '7 of Clubs': 7, '8 of Clubs': 8, '9 of Clubs': 9, '10 of Clubs': 10, 'Jack of Clubs': 10, 'Queen of Clubs': 10, 'King of Clubs': 10,'Ace of Hearts': 1, '2 of Hearts': 2, '3 of Hearts': 3, '4 of Hearts': 4, '5 of Hearts': 5, '6 of Hearts': 6, '7 of Hearts': 7, '8 of Hearts': 8, '9 of Hearts': 9, '10 of Hearts': 10, 'Jack of Hearts': 10, 'Queen of Hearts': 10, 'King of Hearts': 10,'Ace of Diamonds': 1, '2 of Diamonds': 2, '3 of Diamonds': 3, '4 of Diamonds': 4, '5 of Diamonds': 5, '6 of Diamonds': 6, '7 of Diamonds': 7, '8 of Diamonds': 8, '9 of Diamonds': 9, '10 of Diamonds': 10, 'Jack of Diamonds': 10, 'Queen of Diamonds': 10, 'King of Diamonds': 10})\n"
   ]
  },
  {
   "cell_type": "code",
   "execution_count": null,
   "metadata": {},
   "outputs": [],
   "source": [
    "player_card_1 = np.random.choice(list(All_Possible_Cards.keys()), 1)\n",
    "player_card_2 = np.random.choice(list(All_Possible_Cards.keys()), 1)\n",
    "dealer_card_1 = np.random.choice(list(All_Possible_Cards.keys()), 1)\n",
    "dealer_card_2 = np.random.choice(list(All_Possible_Cards.keys()), 1)\n",
    "\n",
    "\n",
    "for key in player_card_1:\n",
    "    print(\"Player First Card:\",key)\n",
    "for key in player_card_2:\n",
    "    print(\"Player Second Card:\",key)\n",
    "for value in player_card_1:\n",
    "    card_value_1 = (All_Possible_Cards[value])\n",
    "for value in player_card_2:\n",
    "    card_value_2 = (All_Possible_Cards[value])\n",
    "print (\"Player Total:\", card_value_1 + card_value_2)\n",
    "\n",
    "if (card_value_1 + card_value_2) > 17 and (card_value_1 + card_value_2) < 21:\n",
    "    print(\"Player Stands\")\n",
    "for key in dealer_card_1:\n",
    "    print(\"Dealer Shows:\",key)\n",
    "for key in dealer_card_2:\n",
    "    (\"Dealer Shows:\",key)\n",
    "for value in dealer_card_1:\n",
    "    dealer_value_1 = (All_Possible_Cards[value])\n",
    "for value in dealer_card_2:\n",
    "    dealer_value_2 = (All_Possible_Cards[value])\n",
    "    \n",
    "    \n",
    "if (card_value_1 + card_value_2) < 16 and (card_value_1 + card_value_2) < 21:\n",
    "    print(\"Player Hits\")\n",
    "    player_card_3 = np.random.choice(list(All_Possible_Cards.keys()), 1)\n",
    "    for key in player_card_3:\n",
    "        print(\"Player Third Card:\",key)\n",
    "        \n",
    "    for value in player_card_3:\n",
    "        card_value_3 = (All_Possible_Cards[value])\n",
    "    print (\"Player Total:\", card_value_1 + card_value_2 + card_value_3)\n",
    "    if (card_value_1 + card_value_2 + card_value_3) > 21:\n",
    "        print(\"Player Busts & Dealer Wins\")\n",
    "    if (card_value_1 + card_value_2 + card_value_3) == 21:\n",
    "        print(\"Player Wins\") & print(\"Dealer Loses\")\n",
    "    if (card_value_1 + card_value_2 + card_value_3) < 21 and (card_value_1 + card_value_2 + card_value_3) > 17:\n",
    "        print(\"Player Stands\")\n",
    "    if (card_value_1 + card_value_2+ card_value_3) < 16 and (card_value_1 + card_value_2 + card_value_3) < 21:\n",
    "        print(\"Player Hits\")\n",
    "        player_card_4 = np.random.choice(list(All_Possible_Cards.keys()), 1)\n",
    "        for key in player_card_4 :  \n",
    "            print(\"Player Fourth Card:\",key)\n",
    "    \n",
    "    \n",
    "        \n",
    "    for key in dealer_card_2:\n",
    "        print(\"Dealer Second card:\",key)\n",
    "    \n",
    "    print (\"Dealer Total:\", dealer_value_1 + dealer_value_2)\n",
    "    if (dealer_value_1 + dealer_value_2) < 16 and (dealer_value_1 + dealer_value_2) < 21:\n",
    "        print(\"Dealer Hits\")\n",
    "        dealer_card_3 = np.random.choice(list(All_Possible_Cards.keys()), 1)\n",
    "    if (dealer_value_1 + dealer_value_2) > 16 and (dealer_value_1 + dealer_value_2) < 21:\n",
    "        print(\"Dealer Stands\")\n",
    "        \n",
    "    \n",
    "    #if (dealer_value_1 + dealer_value_2 + dealer_value_3) > 21:\n",
    "       # print(\"Dealer Busts & Player Wins\")\n",
    "    \n",
    "        \n",
    "            \n",
    "    \n",
    "        \n"
   ]
  },
  {
   "cell_type": "code",
   "execution_count": null,
   "metadata": {},
   "outputs": [],
   "source": [
    "for value in All_Possible_Cards.values():\n",
    "    print(value)"
   ]
  },
  {
   "cell_type": "code",
   "execution_count": null,
   "metadata": {},
   "outputs": [],
   "source": [
    "def card_value():\n",
    "    for key,value in All_Possible_Cards.items():\n",
    "        return(key, value)\n",
    "print(\"Player Hand:\",key,\" : \",value)"
   ]
  },
  {
   "cell_type": "code",
   "execution_count": null,
   "metadata": {},
   "outputs": [],
   "source": [
    "for key,value in All_Possible_Cards.items():\n",
    "        print(key,\" : \",value)\n"
   ]
  },
  {
   "cell_type": "code",
   "execution_count": null,
   "metadata": {},
   "outputs": [],
   "source": [
    "print(\"Player Hand:\",key,\" : \",value)"
   ]
  }
 ],
 "metadata": {
  "kernelspec": {
   "display_name": "Python 3.9.13 ('base')",
   "language": "python",
   "name": "python3"
  },
  "language_info": {
   "codemirror_mode": {
    "name": "ipython",
    "version": 3
   },
   "file_extension": ".py",
   "mimetype": "text/x-python",
   "name": "python",
   "nbconvert_exporter": "python",
   "pygments_lexer": "ipython3",
   "version": "3.9.13"
  },
  "orig_nbformat": 4,
  "vscode": {
   "interpreter": {
    "hash": "ece8b02e9fc008d2bf4aaa30f9b06cdaffafe92b71d54bfc844a320ee0701ab8"
   }
  }
 },
 "nbformat": 4,
 "nbformat_minor": 2
}
